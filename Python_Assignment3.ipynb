{
 "cells": [
  {
   "cell_type": "code",
   "execution_count": 61,
   "metadata": {},
   "outputs": [],
   "source": [
    "import numpy as np\n",
    "import pandas as pd\n",
    "import matplotlib.pyplot as plt\n",
    "import seaborn as sns\n",
    "from sklearn import linear_model\n",
    "from sklearn.linear_model import LinearRegression\n",
    "from sklearn.model_selection import train_test_split\n",
    "from sklearn.metrics import mean_squared_error"
   ]
  },
  {
   "cell_type": "code",
   "execution_count": 62,
   "metadata": {},
   "outputs": [],
   "source": [
    "dfTest = pd.read_csv(\"C:/Users/Anthony/Downloads/test.csv\")\n",
    "dfTrain = pd.read_csv(\"C:/Users/Anthony/Downloads/train.csv\")\n",
    "dfSample = pd.read_csv(\"C:/Users/Anthony/Downloads/sample_submission.csv\")"
   ]
  },
  {
   "cell_type": "code",
   "execution_count": 63,
   "metadata": {},
   "outputs": [
    {
     "name": "stdout",
     "output_type": "stream",
     "text": [
      "        Id  MSSubClass MSZoning  LotFrontage  LotArea Street Alley LotShape  \\\n",
      "0     1461          20       RH         80.0    11622   Pave   NaN      Reg   \n",
      "1     1462          20       RL         81.0    14267   Pave   NaN      IR1   \n",
      "2     1463          60       RL         74.0    13830   Pave   NaN      IR1   \n",
      "3     1464          60       RL         78.0     9978   Pave   NaN      IR1   \n",
      "4     1465         120       RL         43.0     5005   Pave   NaN      IR1   \n",
      "5     1466          60       RL         75.0    10000   Pave   NaN      IR1   \n",
      "6     1467          20       RL          NaN     7980   Pave   NaN      IR1   \n",
      "7     1468          60       RL         63.0     8402   Pave   NaN      IR1   \n",
      "8     1469          20       RL         85.0    10176   Pave   NaN      Reg   \n",
      "9     1470          20       RL         70.0     8400   Pave   NaN      Reg   \n",
      "10    1471         120       RH         26.0     5858   Pave   NaN      IR1   \n",
      "11    1472         160       RM         21.0     1680   Pave   NaN      Reg   \n",
      "12    1473         160       RM         21.0     1680   Pave   NaN      Reg   \n",
      "13    1474         160       RL         24.0     2280   Pave   NaN      Reg   \n",
      "14    1475         120       RL         24.0     2280   Pave   NaN      Reg   \n",
      "15    1476          60       RL        102.0    12858   Pave   NaN      IR1   \n",
      "16    1477          20       RL         94.0    12883   Pave   NaN      IR1   \n",
      "17    1478          20       RL         90.0    11520   Pave   NaN      Reg   \n",
      "18    1479          20       RL         79.0    14122   Pave   NaN      IR1   \n",
      "19    1480          20       RL        110.0    14300   Pave   NaN      Reg   \n",
      "20    1481          60       RL        105.0    13650   Pave   NaN      Reg   \n",
      "21    1482         120       RL         41.0     7132   Pave   NaN      IR1   \n",
      "22    1483          20       RL        100.0    18494   Pave   NaN      IR1   \n",
      "23    1484         120       RL         43.0     3203   Pave   NaN      Reg   \n",
      "24    1485          80       RL         67.0    13300   Pave   NaN      IR1   \n",
      "25    1486          60       RL         63.0     8577   Pave   NaN      IR1   \n",
      "26    1487          60       RL         60.0    17433   Pave   NaN      IR2   \n",
      "27    1488          20       RL         73.0     8987   Pave   NaN      Reg   \n",
      "28    1489          20       FV         92.0     9215   Pave   NaN      Reg   \n",
      "29    1490          20       FV         84.0    10440   Pave   NaN      Reg   \n",
      "...    ...         ...      ...          ...      ...    ...   ...      ...   \n",
      "1429  2890          30       RM         50.0     7030   Pave   NaN      Reg   \n",
      "1430  2891          50       RM         75.0     9060   Pave   NaN      Reg   \n",
      "1431  2892          30  C (all)         69.0    12366   Pave   NaN      Reg   \n",
      "1432  2893         190  C (all)         50.0     9000   Pave   NaN      Reg   \n",
      "1433  2894          50  C (all)         60.0     8520   Grvl   NaN      Reg   \n",
      "1434  2895         120       RM         41.0     5748   Pave   NaN      IR1   \n",
      "1435  2896         120       RM         44.0     3842   Pave   NaN      IR1   \n",
      "1436  2897          20       RL         69.0    23580   Pave   NaN      IR1   \n",
      "1437  2898          90       RL         65.0     8385   Pave   NaN      Reg   \n",
      "1438  2899          20       RL         70.0     9116   Pave   NaN      Reg   \n",
      "1439  2900          80       RL        140.0    11080   Pave   NaN      Reg   \n",
      "1440  2901          20       RL          NaN    50102   Pave   NaN      IR1   \n",
      "1441  2902          20       RL          NaN     8098   Pave   NaN      IR1   \n",
      "1442  2903          20       RL         95.0    13618   Pave   NaN      Reg   \n",
      "1443  2904          20       RL         88.0    11577   Pave   NaN      Reg   \n",
      "1444  2905          20      NaN        125.0    31250   Pave   NaN      Reg   \n",
      "1445  2906          90       RM         78.0     7020   Pave   NaN      Reg   \n",
      "1446  2907         160       RM         41.0     2665   Pave   NaN      Reg   \n",
      "1447  2908          20       RL         58.0    10172   Pave   NaN      IR1   \n",
      "1448  2909          90       RL          NaN    11836   Pave   NaN      IR1   \n",
      "1449  2910         180       RM         21.0     1470   Pave   NaN      Reg   \n",
      "1450  2911         160       RM         21.0     1484   Pave   NaN      Reg   \n",
      "1451  2912          20       RL         80.0    13384   Pave   NaN      Reg   \n",
      "1452  2913         160       RM         21.0     1533   Pave   NaN      Reg   \n",
      "1453  2914         160       RM         21.0     1526   Pave   NaN      Reg   \n",
      "1454  2915         160       RM         21.0     1936   Pave   NaN      Reg   \n",
      "1455  2916         160       RM         21.0     1894   Pave   NaN      Reg   \n",
      "1456  2917          20       RL        160.0    20000   Pave   NaN      Reg   \n",
      "1457  2918          85       RL         62.0    10441   Pave   NaN      Reg   \n",
      "1458  2919          60       RL         74.0     9627   Pave   NaN      Reg   \n",
      "\n",
      "     LandContour Utilities      ...       ScreenPorch PoolArea PoolQC  Fence  \\\n",
      "0            Lvl    AllPub      ...               120        0    NaN  MnPrv   \n",
      "1            Lvl    AllPub      ...                 0        0    NaN    NaN   \n",
      "2            Lvl    AllPub      ...                 0        0    NaN  MnPrv   \n",
      "3            Lvl    AllPub      ...                 0        0    NaN    NaN   \n",
      "4            HLS    AllPub      ...               144        0    NaN    NaN   \n",
      "5            Lvl    AllPub      ...                 0        0    NaN    NaN   \n",
      "6            Lvl    AllPub      ...                 0        0    NaN  GdPrv   \n",
      "7            Lvl    AllPub      ...                 0        0    NaN    NaN   \n",
      "8            Lvl    AllPub      ...                 0        0    NaN    NaN   \n",
      "9            Lvl    AllPub      ...                 0        0    NaN  MnPrv   \n",
      "10           Lvl    AllPub      ...                 0        0    NaN    NaN   \n",
      "11           Lvl    AllPub      ...                 0        0    NaN    NaN   \n",
      "12           Lvl    AllPub      ...                 0        0    NaN    NaN   \n",
      "13           Lvl    AllPub      ...                 0        0    NaN    NaN   \n",
      "14           Lvl    AllPub      ...                 0        0    NaN    NaN   \n",
      "15           Lvl    AllPub      ...                 0        0    NaN    NaN   \n",
      "16           Lvl    AllPub      ...                 0        0    NaN    NaN   \n",
      "17           Lvl    AllPub      ...                 0        0    NaN    NaN   \n",
      "18           Lvl    AllPub      ...                 0        0    NaN    NaN   \n",
      "19           HLS    AllPub      ...                 0        0    NaN    NaN   \n",
      "20           Lvl    AllPub      ...                 0        0    NaN    NaN   \n",
      "21           Lvl    AllPub      ...                 0        0    NaN    NaN   \n",
      "22           Lvl    AllPub      ...                 0        0    NaN    NaN   \n",
      "23           Lvl    AllPub      ...                 0        0    NaN    NaN   \n",
      "24           Lvl    AllPub      ...                 0        0    NaN    NaN   \n",
      "25           Lvl    AllPub      ...                 0        0    NaN    NaN   \n",
      "26           Lvl    AllPub      ...               256        0    NaN    NaN   \n",
      "27           Lvl    AllPub      ...                 0        0    NaN    NaN   \n",
      "28           Lvl    AllPub      ...                 0        0    NaN    NaN   \n",
      "29           Lvl    AllPub      ...               216        0    NaN    NaN   \n",
      "...          ...       ...      ...               ...      ...    ...    ...   \n",
      "1429         Lvl    AllPub      ...                 0        0    NaN  MnPrv   \n",
      "1430         Lvl    AllPub      ...                 0        0    NaN    NaN   \n",
      "1431         Lvl    AllPub      ...                 0        0    NaN    NaN   \n",
      "1432         Lvl    AllPub      ...                 0        0    NaN    NaN   \n",
      "1433         Bnk    AllPub      ...                 0        0    NaN    NaN   \n",
      "1434         HLS    AllPub      ...               153        0    NaN    NaN   \n",
      "1435         HLS    AllPub      ...               155        0    NaN    NaN   \n",
      "1436         Lvl    AllPub      ...                 0        0    NaN    NaN   \n",
      "1437         Lvl    AllPub      ...                 0        0    NaN    NaN   \n",
      "1438         Lvl    AllPub      ...                 0        0    NaN    NaN   \n",
      "1439         Lvl    AllPub      ...                 0        0    NaN    NaN   \n",
      "1440         Low    AllPub      ...               138        0    NaN    NaN   \n",
      "1441         Lvl    AllPub      ...                 0        0    NaN    NaN   \n",
      "1442         Lvl    AllPub      ...                 0        0    NaN    NaN   \n",
      "1443         Lvl    AllPub      ...                 0        0    NaN    NaN   \n",
      "1444         Lvl    AllPub      ...                 0        0    NaN    NaN   \n",
      "1445         Lvl    AllPub      ...                 0        0    NaN    NaN   \n",
      "1446         Lvl    AllPub      ...                 0        0    NaN    NaN   \n",
      "1447         Lvl    AllPub      ...                 0        0    NaN    NaN   \n",
      "1448         Lvl    AllPub      ...                 0        0    NaN    NaN   \n",
      "1449         Lvl    AllPub      ...                 0        0    NaN    NaN   \n",
      "1450         Lvl    AllPub      ...                 0        0    NaN    NaN   \n",
      "1451         Lvl    AllPub      ...                 0        0    NaN    NaN   \n",
      "1452         Lvl    AllPub      ...                 0        0    NaN    NaN   \n",
      "1453         Lvl    AllPub      ...                 0        0    NaN  GdPrv   \n",
      "1454         Lvl    AllPub      ...                 0        0    NaN    NaN   \n",
      "1455         Lvl    AllPub      ...                 0        0    NaN    NaN   \n",
      "1456         Lvl    AllPub      ...                 0        0    NaN    NaN   \n",
      "1457         Lvl    AllPub      ...                 0        0    NaN  MnPrv   \n",
      "1458         Lvl    AllPub      ...                 0        0    NaN    NaN   \n",
      "\n",
      "     MiscFeature MiscVal MoSold  YrSold  SaleType  SaleCondition  \n",
      "0            NaN       0      6    2010        WD         Normal  \n",
      "1           Gar2   12500      6    2010        WD         Normal  \n",
      "2            NaN       0      3    2010        WD         Normal  \n",
      "3            NaN       0      6    2010        WD         Normal  \n",
      "4            NaN       0      1    2010        WD         Normal  \n",
      "5            NaN       0      4    2010        WD         Normal  \n",
      "6           Shed     500      3    2010        WD         Normal  \n",
      "7            NaN       0      5    2010        WD         Normal  \n",
      "8            NaN       0      2    2010        WD         Normal  \n",
      "9            NaN       0      4    2010        WD         Normal  \n",
      "10           NaN       0      6    2010        WD         Normal  \n",
      "11           NaN       0      2    2010       COD         Normal  \n",
      "12           NaN       0      3    2010        WD         Normal  \n",
      "13           NaN       0      6    2010        WD         Normal  \n",
      "14           NaN       0      6    2010        WD         Normal  \n",
      "15           NaN       0      1    2010       New        Partial  \n",
      "16           NaN       0      6    2010       New        Partial  \n",
      "17           NaN       0      6    2010        WD         Normal  \n",
      "18           NaN       0      2    2010        WD         Normal  \n",
      "19           NaN       0      6    2010        WD         Normal  \n",
      "20           NaN       0      6    2010        WD         Normal  \n",
      "21           NaN       0      4    2010        WD         Normal  \n",
      "22           NaN       0      1    2010        WD         Normal  \n",
      "23           NaN       0      1    2010        WD         Normal  \n",
      "24           NaN       0      6    2010        WD         Normal  \n",
      "25           NaN       0      4    2010        WD         Normal  \n",
      "26           NaN       0      1    2010        WD         Normal  \n",
      "27           NaN       0      5    2010        WD         Normal  \n",
      "28           NaN       0      4    2010       New        Partial  \n",
      "29           NaN       0      5    2010        WD         Normal  \n",
      "...          ...     ...    ...     ...       ...            ...  \n",
      "1429         NaN       0      3    2006        WD         Normal  \n",
      "1430         NaN       0      4    2006        WD         Normal  \n",
      "1431         NaN       0     10    2006        WD        Abnorml  \n",
      "1432         NaN       0     10    2006        WD        Abnorml  \n",
      "1433         NaN       0      4    2006        WD         Normal  \n",
      "1434         NaN       0      2    2006       New        Partial  \n",
      "1435         NaN       0     12    2006        WD         Normal  \n",
      "1436         NaN       0      9    2006        WD         Normal  \n",
      "1437         NaN       0     10    2006        WD         Normal  \n",
      "1438         NaN       0      5    2006        WD         Normal  \n",
      "1439         NaN       0      5    2006        WD         Normal  \n",
      "1440         NaN       0      3    2006        WD         Alloca  \n",
      "1441         NaN       0     10    2006        WD         Normal  \n",
      "1442         NaN       0     11    2006       New        Partial  \n",
      "1443         NaN       0      9    2006       New        Partial  \n",
      "1444         NaN       0      5    2006        WD         Normal  \n",
      "1445         NaN       0     11    2006        WD         Normal  \n",
      "1446         NaN       0      5    2006        WD         Normal  \n",
      "1447         NaN       0     10    2006        WD         Normal  \n",
      "1448         NaN       0      3    2006        WD         Normal  \n",
      "1449         NaN       0      4    2006        WD         Normal  \n",
      "1450         NaN       0      5    2006        WD         Normal  \n",
      "1451         NaN       0      5    2006        WD         Normal  \n",
      "1452         NaN       0     12    2006        WD        Abnorml  \n",
      "1453         NaN       0      6    2006        WD         Normal  \n",
      "1454         NaN       0      6    2006        WD         Normal  \n",
      "1455         NaN       0      4    2006        WD        Abnorml  \n",
      "1456         NaN       0      9    2006        WD        Abnorml  \n",
      "1457        Shed     700      7    2006        WD         Normal  \n",
      "1458         NaN       0     11    2006        WD         Normal  \n",
      "\n",
      "[1459 rows x 80 columns]\n"
     ]
    }
   ],
   "source": [
    "print(dfTest)"
   ]
  },
  {
   "cell_type": "code",
   "execution_count": 64,
   "metadata": {},
   "outputs": [
    {
     "data": {
      "text/html": [
       "<div>\n",
       "<style scoped>\n",
       "    .dataframe tbody tr th:only-of-type {\n",
       "        vertical-align: middle;\n",
       "    }\n",
       "\n",
       "    .dataframe tbody tr th {\n",
       "        vertical-align: top;\n",
       "    }\n",
       "\n",
       "    .dataframe thead th {\n",
       "        text-align: right;\n",
       "    }\n",
       "</style>\n",
       "<table border=\"1\" class=\"dataframe\">\n",
       "  <thead>\n",
       "    <tr style=\"text-align: right;\">\n",
       "      <th></th>\n",
       "      <th>Id</th>\n",
       "      <th>MSSubClass</th>\n",
       "      <th>MSZoning</th>\n",
       "      <th>LotFrontage</th>\n",
       "      <th>LotArea</th>\n",
       "      <th>Street</th>\n",
       "      <th>Alley</th>\n",
       "      <th>LotShape</th>\n",
       "      <th>LandContour</th>\n",
       "      <th>Utilities</th>\n",
       "      <th>...</th>\n",
       "      <th>ScreenPorch</th>\n",
       "      <th>PoolArea</th>\n",
       "      <th>PoolQC</th>\n",
       "      <th>Fence</th>\n",
       "      <th>MiscFeature</th>\n",
       "      <th>MiscVal</th>\n",
       "      <th>MoSold</th>\n",
       "      <th>YrSold</th>\n",
       "      <th>SaleType</th>\n",
       "      <th>SaleCondition</th>\n",
       "    </tr>\n",
       "  </thead>\n",
       "  <tbody>\n",
       "    <tr>\n",
       "      <th>0</th>\n",
       "      <td>1461</td>\n",
       "      <td>20</td>\n",
       "      <td>RH</td>\n",
       "      <td>80.0</td>\n",
       "      <td>11622</td>\n",
       "      <td>Pave</td>\n",
       "      <td>NaN</td>\n",
       "      <td>Reg</td>\n",
       "      <td>Lvl</td>\n",
       "      <td>AllPub</td>\n",
       "      <td>...</td>\n",
       "      <td>120</td>\n",
       "      <td>0</td>\n",
       "      <td>NaN</td>\n",
       "      <td>MnPrv</td>\n",
       "      <td>NaN</td>\n",
       "      <td>0</td>\n",
       "      <td>6</td>\n",
       "      <td>2010</td>\n",
       "      <td>WD</td>\n",
       "      <td>Normal</td>\n",
       "    </tr>\n",
       "    <tr>\n",
       "      <th>1</th>\n",
       "      <td>1462</td>\n",
       "      <td>20</td>\n",
       "      <td>RL</td>\n",
       "      <td>81.0</td>\n",
       "      <td>14267</td>\n",
       "      <td>Pave</td>\n",
       "      <td>NaN</td>\n",
       "      <td>IR1</td>\n",
       "      <td>Lvl</td>\n",
       "      <td>AllPub</td>\n",
       "      <td>...</td>\n",
       "      <td>0</td>\n",
       "      <td>0</td>\n",
       "      <td>NaN</td>\n",
       "      <td>NaN</td>\n",
       "      <td>Gar2</td>\n",
       "      <td>12500</td>\n",
       "      <td>6</td>\n",
       "      <td>2010</td>\n",
       "      <td>WD</td>\n",
       "      <td>Normal</td>\n",
       "    </tr>\n",
       "    <tr>\n",
       "      <th>2</th>\n",
       "      <td>1463</td>\n",
       "      <td>60</td>\n",
       "      <td>RL</td>\n",
       "      <td>74.0</td>\n",
       "      <td>13830</td>\n",
       "      <td>Pave</td>\n",
       "      <td>NaN</td>\n",
       "      <td>IR1</td>\n",
       "      <td>Lvl</td>\n",
       "      <td>AllPub</td>\n",
       "      <td>...</td>\n",
       "      <td>0</td>\n",
       "      <td>0</td>\n",
       "      <td>NaN</td>\n",
       "      <td>MnPrv</td>\n",
       "      <td>NaN</td>\n",
       "      <td>0</td>\n",
       "      <td>3</td>\n",
       "      <td>2010</td>\n",
       "      <td>WD</td>\n",
       "      <td>Normal</td>\n",
       "    </tr>\n",
       "    <tr>\n",
       "      <th>3</th>\n",
       "      <td>1464</td>\n",
       "      <td>60</td>\n",
       "      <td>RL</td>\n",
       "      <td>78.0</td>\n",
       "      <td>9978</td>\n",
       "      <td>Pave</td>\n",
       "      <td>NaN</td>\n",
       "      <td>IR1</td>\n",
       "      <td>Lvl</td>\n",
       "      <td>AllPub</td>\n",
       "      <td>...</td>\n",
       "      <td>0</td>\n",
       "      <td>0</td>\n",
       "      <td>NaN</td>\n",
       "      <td>NaN</td>\n",
       "      <td>NaN</td>\n",
       "      <td>0</td>\n",
       "      <td>6</td>\n",
       "      <td>2010</td>\n",
       "      <td>WD</td>\n",
       "      <td>Normal</td>\n",
       "    </tr>\n",
       "    <tr>\n",
       "      <th>4</th>\n",
       "      <td>1465</td>\n",
       "      <td>120</td>\n",
       "      <td>RL</td>\n",
       "      <td>43.0</td>\n",
       "      <td>5005</td>\n",
       "      <td>Pave</td>\n",
       "      <td>NaN</td>\n",
       "      <td>IR1</td>\n",
       "      <td>HLS</td>\n",
       "      <td>AllPub</td>\n",
       "      <td>...</td>\n",
       "      <td>144</td>\n",
       "      <td>0</td>\n",
       "      <td>NaN</td>\n",
       "      <td>NaN</td>\n",
       "      <td>NaN</td>\n",
       "      <td>0</td>\n",
       "      <td>1</td>\n",
       "      <td>2010</td>\n",
       "      <td>WD</td>\n",
       "      <td>Normal</td>\n",
       "    </tr>\n",
       "  </tbody>\n",
       "</table>\n",
       "<p>5 rows × 80 columns</p>\n",
       "</div>"
      ],
      "text/plain": [
       "     Id  MSSubClass MSZoning  LotFrontage  LotArea Street Alley LotShape  \\\n",
       "0  1461          20       RH         80.0    11622   Pave   NaN      Reg   \n",
       "1  1462          20       RL         81.0    14267   Pave   NaN      IR1   \n",
       "2  1463          60       RL         74.0    13830   Pave   NaN      IR1   \n",
       "3  1464          60       RL         78.0     9978   Pave   NaN      IR1   \n",
       "4  1465         120       RL         43.0     5005   Pave   NaN      IR1   \n",
       "\n",
       "  LandContour Utilities      ...       ScreenPorch PoolArea PoolQC  Fence  \\\n",
       "0         Lvl    AllPub      ...               120        0    NaN  MnPrv   \n",
       "1         Lvl    AllPub      ...                 0        0    NaN    NaN   \n",
       "2         Lvl    AllPub      ...                 0        0    NaN  MnPrv   \n",
       "3         Lvl    AllPub      ...                 0        0    NaN    NaN   \n",
       "4         HLS    AllPub      ...               144        0    NaN    NaN   \n",
       "\n",
       "  MiscFeature MiscVal MoSold  YrSold  SaleType  SaleCondition  \n",
       "0         NaN       0      6    2010        WD         Normal  \n",
       "1        Gar2   12500      6    2010        WD         Normal  \n",
       "2         NaN       0      3    2010        WD         Normal  \n",
       "3         NaN       0      6    2010        WD         Normal  \n",
       "4         NaN       0      1    2010        WD         Normal  \n",
       "\n",
       "[5 rows x 80 columns]"
      ]
     },
     "execution_count": 64,
     "metadata": {},
     "output_type": "execute_result"
    }
   ],
   "source": [
    "dfTest.head()"
   ]
  },
  {
   "cell_type": "code",
   "execution_count": 65,
   "metadata": {},
   "outputs": [
    {
     "name": "stdout",
     "output_type": "stream",
     "text": [
      "        Id      SalePrice\n",
      "0     1461  169277.052498\n",
      "1     1462  187758.393989\n",
      "2     1463  183583.683570\n",
      "3     1464  179317.477511\n",
      "4     1465  150730.079977\n",
      "5     1466  177150.989247\n",
      "6     1467  172070.659229\n",
      "7     1468  175110.956520\n",
      "8     1469  162011.698832\n",
      "9     1470  160726.247831\n",
      "10    1471  157933.279456\n",
      "11    1472  145291.245020\n",
      "12    1473  159672.017632\n",
      "13    1474  164167.518302\n",
      "14    1475  150891.638244\n",
      "15    1476  179460.965187\n",
      "16    1477  185034.628914\n",
      "17    1478  182352.192645\n",
      "18    1479  183053.458214\n",
      "19    1480  187823.339254\n",
      "20    1481  186544.114328\n",
      "21    1482  158230.775205\n",
      "22    1483  190552.829321\n",
      "23    1484  147183.674872\n",
      "24    1485  185855.300905\n",
      "25    1486  174350.470677\n",
      "26    1487  201740.620691\n",
      "27    1488  162986.378896\n",
      "28    1489  162330.199086\n",
      "29    1490  165845.938617\n",
      "...    ...            ...\n",
      "1429  2890  160515.850579\n",
      "1430  2891  192167.621096\n",
      "1431  2892  178751.551083\n",
      "1432  2893  198678.894117\n",
      "1433  2894  164553.120272\n",
      "1434  2895  156887.932862\n",
      "1435  2896  164185.777306\n",
      "1436  2897  212992.120631\n",
      "1437  2898  197468.550533\n",
      "1438  2899  180106.843740\n",
      "1439  2900  183972.071057\n",
      "1440  2901  245283.198338\n",
      "1441  2902  170351.963411\n",
      "1442  2903  195596.307707\n",
      "1443  2904  189369.756330\n",
      "1444  2905  223667.404552\n",
      "1445  2906  169335.310624\n",
      "1446  2907  167411.028352\n",
      "1447  2908  187709.555004\n",
      "1448  2909  196526.002999\n",
      "1449  2910  137402.569856\n",
      "1450  2911  165086.775062\n",
      "1451  2912  188506.431412\n",
      "1452  2913  172917.456816\n",
      "1453  2914  166274.325226\n",
      "1454  2915  167081.220949\n",
      "1455  2916  164788.778231\n",
      "1456  2917  219222.423400\n",
      "1457  2918  184924.279659\n",
      "1458  2919  187741.866657\n",
      "\n",
      "[1459 rows x 2 columns]\n"
     ]
    }
   ],
   "source": [
    "print(dfSample)"
   ]
  },
  {
   "cell_type": "code",
   "execution_count": 66,
   "metadata": {},
   "outputs": [
    {
     "data": {
      "text/plain": [
       "<matplotlib.axes._subplots.AxesSubplot at 0x5494668>"
      ]
     },
     "execution_count": 66,
     "metadata": {},
     "output_type": "execute_result"
    },
    {
     "data": {
      "image/png": "[encoded data removed]",
      "text/plain": [
       "<Figure size 432x288 with 1 Axes>"
      ]
     },
     "metadata": {},
     "output_type": "display_data"
    }
   ],
   "source": [
    "dfTest.MSSubClass.hist() #for reference display the housing subclasses as a histogram"
   ]
  },
  {
   "cell_type": "code",
   "execution_count": 67,
   "metadata": {},
   "outputs": [
    {
     "name": "stdout",
     "output_type": "stream",
     "text": [
      "Unique Feautures:  [nan 'Shed' 'Gar2' 'Othr' 'TenC']\n"
     ]
    }
   ],
   "source": [
    "print (\"Unique Feautures: \", dfTrain.MiscFeature.unique()) #Display unique values in dataset"
   ]
  },
  {
   "cell_type": "code",
   "execution_count": 68,
   "metadata": {},
   "outputs": [
    {
     "data": {
      "text/html": [
       "<div>\n",
       "<style scoped>\n",
       "    .dataframe tbody tr th:only-of-type {\n",
       "        vertical-align: middle;\n",
       "    }\n",
       "\n",
       "    .dataframe tbody tr th {\n",
       "        vertical-align: top;\n",
       "    }\n",
       "\n",
       "    .dataframe thead th {\n",
       "        text-align: right;\n",
       "    }\n",
       "</style>\n",
       "<table border=\"1\" class=\"dataframe\">\n",
       "  <thead>\n",
       "    <tr style=\"text-align: right;\">\n",
       "      <th></th>\n",
       "      <th>MSZoning</th>\n",
       "      <th>Street</th>\n",
       "      <th>Alley</th>\n",
       "      <th>LotShape</th>\n",
       "      <th>LandContour</th>\n",
       "      <th>Utilities</th>\n",
       "      <th>LotConfig</th>\n",
       "      <th>LandSlope</th>\n",
       "      <th>Neighborhood</th>\n",
       "      <th>Condition1</th>\n",
       "      <th>...</th>\n",
       "      <th>GarageType</th>\n",
       "      <th>GarageFinish</th>\n",
       "      <th>GarageQual</th>\n",
       "      <th>GarageCond</th>\n",
       "      <th>PavedDrive</th>\n",
       "      <th>PoolQC</th>\n",
       "      <th>Fence</th>\n",
       "      <th>MiscFeature</th>\n",
       "      <th>SaleType</th>\n",
       "      <th>SaleCondition</th>\n",
       "    </tr>\n",
       "  </thead>\n",
       "  <tbody>\n",
       "    <tr>\n",
       "      <th>count</th>\n",
       "      <td>1460</td>\n",
       "      <td>1460</td>\n",
       "      <td>91</td>\n",
       "      <td>1460</td>\n",
       "      <td>1460</td>\n",
       "      <td>1460</td>\n",
       "      <td>1460</td>\n",
       "      <td>1460</td>\n",
       "      <td>1460</td>\n",
       "      <td>1460</td>\n",
       "      <td>...</td>\n",
       "      <td>1379</td>\n",
       "      <td>1379</td>\n",
       "      <td>1379</td>\n",
       "      <td>1379</td>\n",
       "      <td>1460</td>\n",
       "      <td>7</td>\n",
       "      <td>281</td>\n",
       "      <td>54</td>\n",
       "      <td>1460</td>\n",
       "      <td>1460</td>\n",
       "    </tr>\n",
       "    <tr>\n",
       "      <th>unique</th>\n",
       "      <td>5</td>\n",
       "      <td>2</td>\n",
       "      <td>2</td>\n",
       "      <td>4</td>\n",
       "      <td>4</td>\n",
       "      <td>2</td>\n",
       "      <td>5</td>\n",
       "      <td>3</td>\n",
       "      <td>25</td>\n",
       "      <td>9</td>\n",
       "      <td>...</td>\n",
       "      <td>6</td>\n",
       "      <td>3</td>\n",
       "      <td>5</td>\n",
       "      <td>5</td>\n",
       "      <td>3</td>\n",
       "      <td>3</td>\n",
       "      <td>4</td>\n",
       "      <td>4</td>\n",
       "      <td>9</td>\n",
       "      <td>6</td>\n",
       "    </tr>\n",
       "    <tr>\n",
       "      <th>top</th>\n",
       "      <td>RL</td>\n",
       "      <td>Pave</td>\n",
       "      <td>Grvl</td>\n",
       "      <td>Reg</td>\n",
       "      <td>Lvl</td>\n",
       "      <td>AllPub</td>\n",
       "      <td>Inside</td>\n",
       "      <td>Gtl</td>\n",
       "      <td>NAmes</td>\n",
       "      <td>Norm</td>\n",
       "      <td>...</td>\n",
       "      <td>Attchd</td>\n",
       "      <td>Unf</td>\n",
       "      <td>TA</td>\n",
       "      <td>TA</td>\n",
       "      <td>Y</td>\n",
       "      <td>Gd</td>\n",
       "      <td>MnPrv</td>\n",
       "      <td>Shed</td>\n",
       "      <td>WD</td>\n",
       "      <td>Normal</td>\n",
       "    </tr>\n",
       "    <tr>\n",
       "      <th>freq</th>\n",
       "      <td>1151</td>\n",
       "      <td>1454</td>\n",
       "      <td>50</td>\n",
       "      <td>925</td>\n",
       "      <td>1311</td>\n",
       "      <td>1459</td>\n",
       "      <td>1052</td>\n",
       "      <td>1382</td>\n",
       "      <td>225</td>\n",
       "      <td>1260</td>\n",
       "      <td>...</td>\n",
       "      <td>870</td>\n",
       "      <td>605</td>\n",
       "      <td>1311</td>\n",
       "      <td>1326</td>\n",
       "      <td>1340</td>\n",
       "      <td>3</td>\n",
       "      <td>157</td>\n",
       "      <td>49</td>\n",
       "      <td>1267</td>\n",
       "      <td>1198</td>\n",
       "    </tr>\n",
       "  </tbody>\n",
       "</table>\n",
       "<p>4 rows × 43 columns</p>\n",
       "</div>"
      ],
      "text/plain": [
       "       MSZoning Street Alley LotShape LandContour Utilities LotConfig  \\\n",
       "count      1460   1460    91     1460        1460      1460      1460   \n",
       "unique        5      2     2        4           4         2         5   \n",
       "top          RL   Pave  Grvl      Reg         Lvl    AllPub    Inside   \n",
       "freq       1151   1454    50      925        1311      1459      1052   \n",
       "\n",
       "       LandSlope Neighborhood Condition1      ...      GarageType  \\\n",
       "count       1460         1460       1460      ...            1379   \n",
       "unique         3           25          9      ...               6   \n",
       "top          Gtl        NAmes       Norm      ...          Attchd   \n",
       "freq        1382          225       1260      ...             870   \n",
       "\n",
       "       GarageFinish GarageQual GarageCond PavedDrive PoolQC  Fence  \\\n",
       "count          1379       1379       1379       1460      7    281   \n",
       "unique            3          5          5          3      3      4   \n",
       "top             Unf         TA         TA          Y     Gd  MnPrv   \n",
       "freq            605       1311       1326       1340      3    157   \n",
       "\n",
       "       MiscFeature SaleType SaleCondition  \n",
       "count           54     1460          1460  \n",
       "unique           4        9             6  \n",
       "top           Shed       WD        Normal  \n",
       "freq            49     1267          1198  \n",
       "\n",
       "[4 rows x 43 columns]"
      ]
     },
     "execution_count": 68,
     "metadata": {},
     "output_type": "execute_result"
    }
   ],
   "source": [
    "categories = dfTrain.select_dtypes(exclude=[np.number]) #Break down into categories and display categorical values\n",
    "categories.describe()"
   ]
  },
  {
   "cell_type": "code",
   "execution_count": 69,
   "metadata": {},
   "outputs": [
    {
     "name": "stdout",
     "output_type": "stream",
     "text": [
      "Original: \n",
      "Pave    1454\n",
      "Grvl       6\n",
      "Name: Street, dtype: int64\n"
     ]
    }
   ],
   "source": [
    "print (\"Original: \") \n",
    "print (dfTrain.Street.value_counts())     #Display number of entries with gravel and Paved driveways"
   ]
  },
  {
   "cell_type": "code",
   "execution_count": 70,
   "metadata": {},
   "outputs": [],
   "source": [
    "dfTrain['dummieStreet'] = pd.get_dummies(dfTrain.Street, drop_first=True)\n",
    "dfTest['dummieStreet'] = pd.get_dummies(dfTrain.Street, drop_first=True)\n",
    "\n",
    "#Create dummies of street values to allow for numerical engineering"
   ]
  },
  {
   "cell_type": "code",
   "execution_count": 71,
   "metadata": {},
   "outputs": [
    {
     "name": "stdout",
     "output_type": "stream",
     "text": [
      "Encoded: \n",
      "\n",
      "1    1454\n",
      "0       6\n",
      "Name: dummieStreet, dtype: int64\n"
     ]
    }
   ],
   "source": [
    "print ('Encoded: \\n') \n",
    "print (dfTrain.dummieStreet.value_counts())\n"
   ]
  },
  {
   "cell_type": "code",
   "execution_count": 72,
   "metadata": {},
   "outputs": [
    {
     "data": {
      "image/png": "[encoded data removed]",
      "text/plain": [
       "<Figure size 432x288 with 1 Axes>"
      ]
     },
     "metadata": {},
     "output_type": "display_data"
    }
   ],
   "source": [
    "condition = dfTrain.pivot_table(index='SaleCondition',\n",
    "                                    values='SalePrice', aggfunc=np.median)\n",
    "condition.plot(kind='bar', color='blue')\n",
    "plt.xlabel('Sale Condition')\n",
    "plt.ylabel('Median Sale Price')\n",
    "plt.xticks(rotation=0)\n",
    "plt.show()\n",
    "\n",
    "#Engineering the salescondition section by creating a pivot table"
   ]
  },
  {
   "cell_type": "code",
   "execution_count": 73,
   "metadata": {},
   "outputs": [],
   "source": [
    "def encode(x): return 1 if x == 'Partial' else 0\n",
    "dfTrain['dummieCondition'] = dfTrain.SaleCondition.apply(encode)\n",
    "dfTest['dummieCondition'] = dfTest.SaleCondition.apply(encode)\n",
    "\n",
    "#like street value, we create a dummie value for the salescondition\n",
    "#to allow for further engineering"
   ]
  },
  {
   "cell_type": "code",
   "execution_count": 74,
   "metadata": {},
   "outputs": [
    {
     "data": {
      "image/png": "[encoded data removed]",
      "text/plain": [
       "<Figure size 432x288 with 1 Axes>"
      ]
     },
     "metadata": {},
     "output_type": "display_data"
    }
   ],
   "source": [
    "condition = dfTrain.pivot_table(index='dummieCondition', values='SalePrice', aggfunc=np.median)\n",
    "condition.plot(kind='bar', color='blue')\n",
    "plt.xlabel('Dummie-Sales-Condition')\n",
    "plt.ylabel('Median-Price')\n",
    "plt.xticks(rotation=0)\n",
    "plt.show()\n",
    "\n",
    "#New Pivot table created with the dummie conditions"
   ]
  },
  {
   "cell_type": "code",
   "execution_count": 75,
   "metadata": {},
   "outputs": [
    {
     "data": {
      "text/plain": [
       "0"
      ]
     },
     "execution_count": 75,
     "metadata": {},
     "output_type": "execute_result"
    }
   ],
   "source": [
    "AnyNullData = dfTrain.select_dtypes(include=[np.number]).interpolate().dropna()\n",
    "sum(AnyNullData.isnull().sum() != 0)\n",
    "\n",
    "#Checking for null values in dfTrain"
   ]
  },
  {
   "cell_type": "code",
   "execution_count": 76,
   "metadata": {},
   "outputs": [],
   "source": [
    "y = np.log(dfTrain.SalePrice)\n",
    "X = AnyNullData.drop(['SalePrice', 'Id'], axis=1)\n",
    "#We are begginging to build the linear model"
   ]
  },
  {
   "cell_type": "code",
   "execution_count": 77,
   "metadata": {},
   "outputs": [],
   "source": [
    "X_dfTrain, X_dfTest, y_dfTrain, y_dfTest = train_test_split(\n",
    "                                    X, y, random_state=52, test_size=.43)\n",
    "\n",
    "#Creating and designing our data's subjests and target variables"
   ]
  },
  {
   "cell_type": "code",
   "execution_count": 78,
   "metadata": {},
   "outputs": [
    {
     "name": "stdout",
     "output_type": "stream",
     "text": [
      "R-sqaured: \n",
      " 0.8581660307733967\n"
     ]
    }
   ],
   "source": [
    "lr = linear_model.LinearRegression()  #Create instance of linear model\n",
    "model = lr.fit(X_dfTrain, y_dfTrain)      #Fitting Instanciated model with X_Train and Y_Train\n",
    "print (\"R-sqaured: \\n\", model.score(X_dfTest, y_dfTest))   #Data Evaluation"
   ]
  },
  {
   "cell_type": "code",
   "execution_count": 79,
   "metadata": {},
   "outputs": [],
   "source": [
    "predictions = model.predict(X_dfTest)   #Establish Predictions"
   ]
  },
  {
   "cell_type": "code",
   "execution_count": 80,
   "metadata": {},
   "outputs": [
    {
     "name": "stdout",
     "output_type": "stream",
     "text": [
      "RMSE:  0.023294565231330135\n"
     ]
    }
   ],
   "source": [
    "print ('RMSE: ', mean_squared_error(y_dfTest, predictions))\n",
    "#Calculating a Root-Mean-Squared Error of arrays y_dfTest and predicitons"
   ]
  },
  {
   "cell_type": "code",
   "execution_count": 81,
   "metadata": {},
   "outputs": [
    {
     "data": {
      "image/png": "[encoded data removed]",
      "text/plain": [
       "<Figure size 432x288 with 1 Axes>"
      ]
     },
     "metadata": {},
     "output_type": "display_data"
    }
   ],
   "source": [
    "actual_values = y_dfTest\n",
    "plt.scatter(predictions, actual_values, alpha=.75,\n",
    "            color='b') \n",
    "plt.xlabel('Predicted-Price')\n",
    "plt.ylabel('Price-Actual')\n",
    "plt.title('Linear-Regressed-Model')\n",
    "plt.show()\n",
    "\n",
    "#Visualizing the relationship between our predicted-prices and\n",
    "#our actual prices"
   ]
  },
  {
   "cell_type": "code",
   "execution_count": 82,
   "metadata": {},
   "outputs": [
    {
     "data": {
      "image/png": "[encoded data removed]",
      "text/plain": [
       "<Figure size 432x288 with 1 Axes>"
      ]
     },
     "metadata": {},
     "output_type": "display_data"
    },
    {
     "data": {
      "image/png": "[encoded data removed]",
      "text/plain": [
       "<Figure size 432x288 with 1 Axes>"
      ]
     },
     "metadata": {},
     "output_type": "display_data"
    },
    {
     "data": {
      "image/png": "[encoded data removed]",
      "text/plain": [
       "<Figure size 432x288 with 1 Axes>"
      ]
     },
     "metadata": {},
     "output_type": "display_data"
    },
    {
     "data": {
      "image/png": "[encoded data removed]",
      "text/plain": [
       "<Figure size 432x288 with 1 Axes>"
      ]
     },
     "metadata": {},
     "output_type": "display_data"
    },
    {
     "data": {
      "image/png": "[encoded data removed]",
      "text/plain": [
       "<Figure size 432x288 with 1 Axes>"
      ]
     },
     "metadata": {},
     "output_type": "display_data"
    }
   ],
   "source": [
    "for i in range (-2, 3):\n",
    "    alpha = 10**i\n",
    "    RM = linear_model.Ridge(alpha=alpha)\n",
    "    ridge_model = RM.fit(X_dfTrain, y_dfTrain)\n",
    "    preds_ridge = ridge_model.predict(X_dfTest)\n",
    "    \n",
    "    \n",
    "    plt.scatter(preds_ridge, actual_values, alpha=.75, color='b')\n",
    "    plt.xlabel('Predicted-Price')\n",
    "    plt.ylabel('Price-Actual')\n",
    "    \n",
    "    plt.title('Ridge w/ alpha = {}'.format(alpha))\n",
    "    overlay = 'Rsquared: {}RMSE: {}'.format(\n",
    "                    ridge_model.score(X_dfTest, y_dfTest),\n",
    "                    mean_squared_error(y_dfTest, preds_ridge))\n",
    "    plt.annotate(s=overlay,xy=(12.1,10.6),size='large')\n",
    "    plt.show()\n",
    "\n",
    "    #Through using Ridge Regularization we can refine the model to \n",
    "    #remove less important values."
   ]
  },
  {
   "cell_type": "code",
   "execution_count": 83,
   "metadata": {},
   "outputs": [],
   "source": [
    "submission = pd.DataFrame()\n",
    "submission['Id'] = dfTest.Id    #Establishing a dataframe for the submission"
   ]
  },
  {
   "cell_type": "code",
   "execution_count": 84,
   "metadata": {},
   "outputs": [],
   "source": [
    "feats = dfTest.select_dtypes(include=[np.number]).drop(['Id'], axis=1).interpolate()\n",
    "#Selecting our desired datatypes"
   ]
  },
  {
   "cell_type": "code",
   "execution_count": 85,
   "metadata": {},
   "outputs": [],
   "source": [
    "predictions = model.predict(feats)\n",
    "#Declare the predictions"
   ]
  },
  {
   "cell_type": "code",
   "execution_count": 86,
   "metadata": {},
   "outputs": [],
   "source": [
    "final_predictions = np.exp(predictions);\n",
    "#Converting prediction into the proper form."
   ]
  },
  {
   "cell_type": "code",
   "execution_count": 87,
   "metadata": {},
   "outputs": [
    {
     "name": "stdout",
     "output_type": "stream",
     "text": [
      "Original-predictions: [11.65765503 11.8652347  11.99257433 12.1558713  12.1116259  12.06219118\n",
      " 12.20506614 12.02180316 12.14765573 11.68615447]\n",
      "Final-predictions:  [115572.69843759 142234.8300022  161550.70412371 190207.58346656\n",
      " 181975.23842045 173198.0790396  199798.79946311 166342.32787027\n",
      " 188651.32144545 118913.83928933]\n"
     ]
    }
   ],
   "source": [
    "print (\"Original-predictions:\", predictions[:10])\n",
    "print (\"Final-predictions: \", final_predictions[:10])\n",
    "#Analyzing the two differences"
   ]
  },
  {
   "cell_type": "code",
   "execution_count": 88,
   "metadata": {},
   "outputs": [
    {
     "data": {
      "text/html": [
       "<div>\n",
       "<style scoped>\n",
       "    .dataframe tbody tr th:only-of-type {\n",
       "        vertical-align: middle;\n",
       "    }\n",
       "\n",
       "    .dataframe tbody tr th {\n",
       "        vertical-align: top;\n",
       "    }\n",
       "\n",
       "    .dataframe thead th {\n",
       "        text-align: right;\n",
       "    }\n",
       "</style>\n",
       "<table border=\"1\" class=\"dataframe\">\n",
       "  <thead>\n",
       "    <tr style=\"text-align: right;\">\n",
       "      <th></th>\n",
       "      <th>Id</th>\n",
       "      <th>SalePrice</th>\n",
       "    </tr>\n",
       "  </thead>\n",
       "  <tbody>\n",
       "    <tr>\n",
       "      <th>0</th>\n",
       "      <td>1461</td>\n",
       "      <td>115572.698438</td>\n",
       "    </tr>\n",
       "    <tr>\n",
       "      <th>1</th>\n",
       "      <td>1462</td>\n",
       "      <td>142234.830002</td>\n",
       "    </tr>\n",
       "    <tr>\n",
       "      <th>2</th>\n",
       "      <td>1463</td>\n",
       "      <td>161550.704124</td>\n",
       "    </tr>\n",
       "    <tr>\n",
       "      <th>3</th>\n",
       "      <td>1464</td>\n",
       "      <td>190207.583467</td>\n",
       "    </tr>\n",
       "    <tr>\n",
       "      <th>4</th>\n",
       "      <td>1465</td>\n",
       "      <td>181975.238420</td>\n",
       "    </tr>\n",
       "  </tbody>\n",
       "</table>\n",
       "</div>"
      ],
      "text/plain": [
       "     Id      SalePrice\n",
       "0  1461  115572.698438\n",
       "1  1462  142234.830002\n",
       "2  1463  161550.704124\n",
       "3  1464  190207.583467\n",
       "4  1465  181975.238420"
      ]
     },
     "execution_count": 88,
     "metadata": {},
     "output_type": "execute_result"
    }
   ],
   "source": [
    "submission['SalePrice'] = final_predictions\n",
    "submission.head()\n",
    "\n",
    "#Assigning predictions to their variables and double checking"
   ]
  },
  {
   "cell_type": "code",
   "execution_count": 89,
   "metadata": {},
   "outputs": [],
   "source": [
    "submission.to_csv('submission2.csv', index=False)\n",
    "#Finally Writing predictions to the Submission2.csv file."
   ]
  }
 ],
 "metadata": {
  "kernelspec": {
   "display_name": "Python 3",
   "language": "python",
   "name": "python3"
  },
  "language_info": {
   "codemirror_mode": {
    "name": "ipython",
    "version": 3
   },
   "file_extension": ".py",
   "mimetype": "text/x-python",
   "name": "python",
   "nbconvert_exporter": "python",
   "pygments_lexer": "ipython3",
   "version": "3.6.5"
  }
 },
 "nbformat": 4,
 "nbformat_minor": 2
}
